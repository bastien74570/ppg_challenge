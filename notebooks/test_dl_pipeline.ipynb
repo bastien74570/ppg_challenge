{
 "cells": [
  {
   "cell_type": "code",
   "execution_count": null,
   "metadata": {},
   "outputs": [],
   "source": [
    "%load_ext autoreload\n",
    "%autoreload 2\n",
    "\n",
    "from torchsummary import summary\n",
    "\n",
    "from ppg_project.dl_training_pipeline import DLTrainingPipeline\n",
    "from ppg_project.dtypes import DLTrainingPipelineConfig\n",
    "from ppg_project.ppg_models import SpectralCNN\n",
    "from ppg_project import utils"
   ]
  },
  {
   "cell_type": "markdown",
   "metadata": {},
   "source": [
    "<h1> Define DL model <h1>"
   ]
  },
  {
   "cell_type": "code",
   "execution_count": null,
   "metadata": {},
   "outputs": [],
   "source": [
    "model = SpectralCNN(\n",
    "    hidden_dim=4,\n",
    "    hidden_size=256,\n",
    "    input_data=(127, 100),\n",
    "    max_pool=True)\n",
    "\n",
    "summary(model, input_size=(1, 127, 100))"
   ]
  },
  {
   "cell_type": "markdown",
   "metadata": {},
   "source": [
    "<h1> Initialize DL pipeline and load data <h1>"
   ]
  },
  {
   "cell_type": "code",
   "execution_count": null,
   "metadata": {},
   "outputs": [],
   "source": [
    "config = DLTrainingPipelineConfig(\n",
    "    batch_size=64,\n",
    "    n_epochs=30,\n",
    "    appply_segmentation=True,\n",
    "    early_stopping_tolerance=3,\n",
    "    learning_rate=1e-4,\n",
    "    dl_features=\"wavelet\"\n",
    "    )\n",
    "\n",
    "pipe = DLTrainingPipeline(config,model)\n",
    "data = pipe.train\n",
    "target = pipe.train_label"
   ]
  },
  {
   "cell_type": "markdown",
   "metadata": {},
   "source": [
    "<h1> Apply window segmentation <h1>"
   ]
  },
  {
   "cell_type": "code",
   "execution_count": null,
   "metadata": {},
   "outputs": [],
   "source": [
    "if config.appply_segmentation:\n",
    "    data,target = utils.segment_data_in_window(\n",
    "                    data,\n",
    "                    target,\n",
    "                    nsec = config.segment_window_sec, \n",
    "                    sampling_rate = config.sampling_rate)"
   ]
  },
  {
   "cell_type": "code",
   "execution_count": null,
   "metadata": {},
   "outputs": [],
   "source": [
    "data.drop(columns=[\"sample_index\",\"window_index\"],inplace=True)\n",
    "data"
   ]
  },
  {
   "cell_type": "markdown",
   "metadata": {},
   "source": [
    "<h1> Take first window only <h1>"
   ]
  },
  {
   "cell_type": "code",
   "execution_count": null,
   "metadata": {},
   "outputs": [],
   "source": [
    "list_feature_col = [c for c in data.columns if c.startswith(\"feature\")]\n",
    "data = data.drop(columns=list_feature_col).values[:60000]\n",
    "target = target[:60000]\n",
    "print(data.shape,target.shape)"
   ]
  },
  {
   "cell_type": "markdown",
   "metadata": {},
   "source": [
    "<h1> Extract features (wavelet or spectrogram) <h1>"
   ]
  },
  {
   "cell_type": "code",
   "execution_count": null,
   "metadata": {},
   "outputs": [],
   "source": [
    "data_processed = pipe.process_data(data,target)"
   ]
  },
  {
   "cell_type": "code",
   "execution_count": null,
   "metadata": {},
   "outputs": [],
   "source": [
    "data_processed"
   ]
  },
  {
   "cell_type": "markdown",
   "metadata": {},
   "source": [
    "<h1> Launch training <h1>"
   ]
  },
  {
   "cell_type": "code",
   "execution_count": null,
   "metadata": {},
   "outputs": [],
   "source": [
    "pipe.run_holdhout(data_processed)"
   ]
  }
 ],
 "metadata": {
  "kernelspec": {
   "display_name": ".venv",
   "language": "python",
   "name": "python3"
  },
  "language_info": {
   "codemirror_mode": {
    "name": "ipython",
    "version": 3
   },
   "file_extension": ".py",
   "mimetype": "text/x-python",
   "name": "python",
   "nbconvert_exporter": "python",
   "pygments_lexer": "ipython3",
   "version": "3.10.6"
  }
 },
 "nbformat": 4,
 "nbformat_minor": 2
}
