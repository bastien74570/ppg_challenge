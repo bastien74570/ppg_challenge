{
 "cells": [
  {
   "cell_type": "code",
   "execution_count": null,
   "metadata": {},
   "outputs": [],
   "source": [
    "%load_ext autoreload\n",
    "%autoreload 2\n",
    "\n",
    "import numpy as np\n",
    "import pandas as pd\n",
    "\n",
    "from ppg_project.training_pipeline import XGBoostTrainingPipeline\n",
    "from ppg_project.dtypes import XGBoostTrainingPipelineConfig"
   ]
  },
  {
   "cell_type": "markdown",
   "metadata": {},
   "source": [
    "<h1> Define pipeline and load data <h1>"
   ]
  },
  {
   "cell_type": "code",
   "execution_count": null,
   "metadata": {},
   "outputs": [],
   "source": [
    "config = XGBoostTrainingPipelineConfig(\n",
    "    data_path=\"../data\",\n",
    "    validation_strategy=\"kfold\",\n",
    "    num_folds=5,\n",
    "    features_list = (\"features\",\"peak\",\"spectrogram\",),\n",
    "    appply_segmentation=False)\n",
    "pipe = XGBoostTrainingPipeline(config)"
   ]
  },
  {
   "cell_type": "markdown",
   "metadata": {},
   "source": [
    "<h1> Run process and evaluate model <h1>"
   ]
  },
  {
   "cell_type": "code",
   "execution_count": null,
   "metadata": {},
   "outputs": [],
   "source": [
    "results = pipe.run()\n",
    "results[[\"rmse\",\"rmsle\",\"mae\",\"r2\"]].aggregate([np.mean, np.std])"
   ]
  },
  {
   "cell_type": "markdown",
   "metadata": {},
   "source": [
    "<h1> Look at feature importance <h1>"
   ]
  },
  {
   "cell_type": "code",
   "execution_count": null,
   "metadata": {},
   "outputs": [],
   "source": [
    "import matplotlib.pyplot as plt \n",
    "\n",
    "df_feat = pd.json_normalize(results.feature_importances)\n",
    "list_col_features = [\"spectrogram_mean\",\"spectrogram_std\"]\n",
    "for feature in list_col_features:\n",
    "    list_col = [col for col in df_feat.columns if feature in col]\n",
    "    print(feature,list_col)\n",
    "    if list_col:\n",
    "        df_feat[f\"mean_{feature}\"] = df_feat[list_col].mean(axis=1)\n",
    "        df_feat.drop(columns=list_col, inplace=True)\n",
    "\n",
    "mean_values = df_feat.mean()\n",
    "std_values = df_feat.std()\n",
    "\n",
    "# Plot bar plot\n",
    "fig, ax = plt.subplots()\n",
    "\n",
    "# Bar plot for mean values\n",
    "mean_values.plot(kind='barh', yerr=std_values, ax=ax, capsize=4, color='lightblue', edgecolor='black')\n",
    "\n",
    "# Set plot labels and title\n",
    "ax.set_ylabel('Mean Value')\n",
    "ax.set_title('Feature importance with Mean and Std')\n",
    "\n",
    "# Show the plot\n",
    "plt.show()"
   ]
  }
 ],
 "metadata": {
  "kernelspec": {
   "display_name": ".venv",
   "language": "python",
   "name": "python3"
  },
  "language_info": {
   "codemirror_mode": {
    "name": "ipython",
    "version": 3
   },
   "file_extension": ".py",
   "mimetype": "text/x-python",
   "name": "python",
   "nbconvert_exporter": "python",
   "pygments_lexer": "ipython3",
   "version": "3.10.6"
  }
 },
 "nbformat": 4,
 "nbformat_minor": 2
}
