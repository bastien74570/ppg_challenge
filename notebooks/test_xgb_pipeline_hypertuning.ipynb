{
 "cells": [
  {
   "cell_type": "code",
   "execution_count": null,
   "metadata": {},
   "outputs": [],
   "source": [
    "%load_ext autoreload\n",
    "%autoreload 2\n",
    "\n",
    "import numpy as np\n",
    "import pandas as pd\n",
    "\n",
    "from ppg_project.training_pipeline import XGBoostTrainingPipeline\n",
    "from ppg_project.dtypes import XGBoostTrainingPipelineConfig"
   ]
  },
  {
   "cell_type": "code",
   "execution_count": null,
   "metadata": {},
   "outputs": [],
   "source": [
    "\n",
    "config = XGBoostTrainingPipelineConfig(\n",
    "    data_path=\"../data\",\n",
    "    validation_strategy=\"kfold\",\n",
    "    num_folds=5,\n",
    "    features_list = (\"features\",\"peak\",\"spectrogram\",))\n",
    "pipe = XGBoostTrainingPipeline(config)"
   ]
  },
  {
   "cell_type": "code",
   "execution_count": null,
   "metadata": {},
   "outputs": [],
   "source": [
    "hyper_params = {\n",
    "    \"max_depth\": [3,4,5,6],\n",
    "    'min_child_weight': [3,6,9],\n",
    "    'subsample': [1.0],\n",
    "    'colsample_bytree': [0.2,0.4,0.5,0.6],\n",
    "}\n",
    "results_confg, best_config = pipe.hyperparameter_tuning(hyper_params)\n"
   ]
  },
  {
   "cell_type": "code",
   "execution_count": null,
   "metadata": {},
   "outputs": [],
   "source": [
    "results_confg.drop(columns=[\"feature_importances\",\"fold\"], inplace=True)\n",
    "results_confg.groupby(\"params\").mean().sort_values(\"r2\", ascending=False)"
   ]
  },
  {
   "cell_type": "code",
   "execution_count": null,
   "metadata": {},
   "outputs": [],
   "source": [
    "pipe = XGBoostTrainingPipeline(best_config)\n",
    "results = pipe.run()"
   ]
  },
  {
   "cell_type": "code",
   "execution_count": null,
   "metadata": {},
   "outputs": [],
   "source": [
    "results[[\"rmse\",\"rmsle\",\"mae\",\"r2\"]].aggregate([np.mean, np.std])"
   ]
  },
  {
   "cell_type": "code",
   "execution_count": null,
   "metadata": {},
   "outputs": [],
   "source": [
    "import matplotlib.pyplot as plt \n",
    "\n",
    "df_feat = pd.json_normalize(results.feature_importances)\n",
    "list_col_features = [\"spectrogram_mean\",\"spectrogram_std\"]\n",
    "for feature in list_col_features:\n",
    "    list_col = [col for col in df_feat.columns if feature in col]\n",
    "    print(feature,list_col)\n",
    "    if list_col:\n",
    "        df_feat[f\"mean_{feature}\"] = df_feat[list_col].mean(axis=1)\n",
    "        df_feat.drop(columns=list_col, inplace=True)\n",
    "\n",
    "mean_values = df_feat.mean()\n",
    "std_values = df_feat.std()\n",
    "\n",
    "# Plot bar plot\n",
    "fig, ax = plt.subplots()\n",
    "\n",
    "# Bar plot for mean values\n",
    "mean_values.plot(kind='barh', yerr=std_values, ax=ax, capsize=4, color='lightblue', edgecolor='black')\n",
    "\n",
    "# Set plot labels and title\n",
    "ax.set_ylabel('Mean Value')\n",
    "ax.set_title('Feature importance with Mean and Std')\n",
    "\n",
    "# Show the plot\n",
    "plt.show()"
   ]
  },
  {
   "cell_type": "code",
   "execution_count": null,
   "metadata": {},
   "outputs": [],
   "source": []
  }
 ],
 "metadata": {
  "kernelspec": {
   "display_name": ".venv",
   "language": "python",
   "name": "python3"
  },
  "language_info": {
   "codemirror_mode": {
    "name": "ipython",
    "version": 3
   },
   "file_extension": ".py",
   "mimetype": "text/x-python",
   "name": "python",
   "nbconvert_exporter": "python",
   "pygments_lexer": "ipython3",
   "version": "3.10.6"
  }
 },
 "nbformat": 4,
 "nbformat_minor": 2
}
